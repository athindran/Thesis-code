{
 "cells": [
  {
   "cell_type": "code",
   "execution_count": 1,
   "metadata": {},
   "outputs": [],
   "source": [
    "import numpy as np\n",
    "import scipy\n",
    "import torch\n",
    "from matplotlib import pyplot as plt\n",
    "import torch.optim as optim\n",
    "import torch.nn.functional as F\n",
    "from torch.autograd import Variable \n",
    "import control\n",
    "from control import matlab\n",
    "from matplotlib import cm\n",
    "\n",
    "np.random.seed(0)\n",
    "if torch.cuda.is_available():  \n",
    "  dev = \"cuda:0\" \n",
    "else:  \n",
    "  dev = \"cpu\"  \n",
    "device = torch.device(dev)"
   ]
  },
  {
   "cell_type": "code",
   "execution_count": null,
   "metadata": {},
   "outputs": [],
   "source": [
    "l1 = 1\n",
    "l2 = 1\n",
    "m1 = 1\n",
    "m2 = 1\n",
    "lc1 = 0.5\n",
    "lc2 = 0.5\n",
    "I1 = 1\n",
    "I2 = 1\n",
    "g = 9.8\n",
    "dt = 0.05\n",
    "\n",
    "maxvel1 = 4*np.pi\n",
    "maxvel2 = 9*np.pi\n",
    "\n",
    "maxtorq = 1\n",
    "\n",
    "def acrobot(x,u):\n",
    "  if u[0]>1:\n",
    "    u[0]=1\n",
    "  elif u[0]<-1:\n",
    "    u[0]=-1\n",
    "  theta1 = s[0]\n",
    "  theta2 = s[1]\n",
    "  dtheta1 = s[2]\n",
    "  dtheta2 = s[3]\n",
    "  d1 = m1 * lc1 ** 2 + m2 * \\\n",
    "      (l1 ** 2 + lc2 ** 2 + 2 * l1 * lc2 * cos(theta2)) + I1 + I2\n",
    "  d2 = m2 * (lc2 ** 2 + l1 * lc2 * cos(theta2)) + I2\n",
    "  phi2 = m2 * lc2 * g * cos(theta1 + theta2 - pi / 2.)\n",
    "  phi1 = - m2 * l1 * lc2 * dtheta2 ** 2 * sin(theta2) \\\n",
    "         - 2 * m2 * l1 * lc2 * dtheta2 * dtheta1 * sin(theta2)  \\\n",
    "         + (m1 * lc1 + m2 * l1) * g * cos(theta1 - pi / 2) + phi2\n",
    "  ddtheta2 = (a + d2 / d1 * phi1 - phi2) / \\\n",
    "                (m2 * lc2 ** 2 + I2 - d2 ** 2 / d1)   \n",
    "  return np.array([x[2],x[3],,])"
   ]
  }
 ],
 "metadata": {
  "kernelspec": {
   "display_name": "Python 3",
   "language": "python",
   "name": "python3"
  },
  "language_info": {
   "codemirror_mode": {
    "name": "ipython",
    "version": 3
   },
   "file_extension": ".py",
   "mimetype": "text/x-python",
   "name": "python",
   "nbconvert_exporter": "python",
   "pygments_lexer": "ipython3",
   "version": "3.8.3"
  }
 },
 "nbformat": 4,
 "nbformat_minor": 4
}
